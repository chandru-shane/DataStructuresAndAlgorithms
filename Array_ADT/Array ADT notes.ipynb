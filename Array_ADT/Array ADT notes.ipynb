{
 "cells": [
  {
   "cell_type": "markdown",
   "metadata": {},
   "source": [
    "# Array ADT\n",
    "\n",
    "## Data\n",
    "### 1. Array space\n",
    "### 2. size\n",
    "### 3. Length(no of elements)\n",
    "\n",
    "## Operations\n",
    "### 1. Display()\n",
    "### 2. Add(x)/Append(x)\n",
    "### 3. insert(index, x)\n",
    "### 4. Delete(index)\n",
    "### 5. Search(x)\n",
    "### 6. Get(index)\n",
    "### 7. Set(index, x)\n",
    "### 8. max()/min()\n",
    "### 9. Reverse()\n",
    "### 10.Shift()/Rotate()"
   ]
  }
 ],
 "metadata": {
  "kernelspec": {
   "display_name": "Python 3",
   "language": "python",
   "name": "python3"
  },
  "language_info": {
   "codemirror_mode": {
    "name": "ipython",
    "version": 3
   },
   "file_extension": ".py",
   "mimetype": "text/x-python",
   "name": "python",
   "nbconvert_exporter": "python",
   "pygments_lexer": "ipython3",
   "version": "3.8.3"
  }
 },
 "nbformat": 4,
 "nbformat_minor": 4
}
