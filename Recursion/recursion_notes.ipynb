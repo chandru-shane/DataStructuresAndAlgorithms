{
 "cells": [
  {
   "cell_type": "markdown",
   "metadata": {},
   "source": [
    "<h1 style='text-align: center;'>Recursion<h1>\n",
    "<!--     <ol>\n",
    "<li>What is Recursion</li>\n",
    "<li>Example of Recursion</li>\n",
    "<li>Tracing Recursion</li>\n",
    "<li>Stack used in Recursion</li>\n",
    "<li>Time complexity</li>\n",
    "<li>Recurrence Relation</li>\n",
    "</ol> -->"
   ]
  },
  {
   "cell_type": "markdown",
   "metadata": {},
   "source": [
    "<h1>What is Recursion?</h1>\n",
    "<p>A fuction calling itself then that function called as recrusive function</p>\n",
    "\n",
    "\n"
   ]
  },
  {
   "cell_type": "markdown",
   "metadata": {},
   "source": [
    "# Example of Recursion\n",
    "## Basic structure of Recursion\n",
    "```\n",
    "type func(param)\n",
    "{\n",
    "    if(base condition)\n",
    "    {\n",
    "        1 code ;\n",
    "        2 code ;\n",
    "        3 func(param);\n",
    "        4 code ;\n",
    "    }\n",
    "}\n",
    "```"
   ]
  },
  {
   "cell_type": "markdown",
   "metadata": {},
   "source": [
    "# Tracing Recursion\n",
    "\n",
    "#### example recursion function\n",
    "\n",
    "```\n",
    "void func(int n)\n",
    "{\n",
    "    if(n>0)\n",
    "    {\n",
    "        1 printf(\"%d\", n);\n",
    "        2 func(n-1);\n",
    "    }\n",
    "}\n",
    "\n",
    "void main()\n",
    "{\n",
    "    int x=5;\n",
    "    func(x);\n",
    "}\n",
    "```"
   ]
  },
  {
   "cell_type": "markdown",
   "metadata": {},
   "source": [
    "## python code for this c code "
   ]
  },
  {
   "cell_type": "code",
   "execution_count": 1,
   "metadata": {},
   "outputs": [
    {
     "name": "stdout",
     "output_type": "stream",
     "text": [
      "5\n",
      "4\n",
      "3\n",
      "2\n",
      "1\n"
     ]
    }
   ],
   "source": [
    "def func(n):\n",
    "    \n",
    "    if n > 0:\n",
    "        print(n)\n",
    "        func(n-1)\n",
    "\n",
    "    \n",
    "func(5)"
   ]
  },
  {
   "cell_type": "markdown",
   "metadata": {},
   "source": [
    "```\n",
    "                func(5)\n",
    "                    ^\n",
    "                   /  \\\n",
    "            print 5     func(4)\n",
    "                           ^\n",
    "                         /  \\\n",
    "                  print 4    func(3)\n",
    "                                ^\n",
    "                               /   \\\n",
    "                          print 3     func(2)\n",
    "                                         ^\n",
    "                                         /  \\\n",
    "                                  print 2     func(1)\n",
    "                                                 ^\n",
    "                                                /  \\\n",
    "                                          print 1     func(0)\n",
    "                                                        condition false\n",
    "                                                          \n",
    "        so it will start to closing  the function has been called.\n",
    "                  \n",
    "```"
   ]
  },
  {
   "cell_type": "markdown",
   "metadata": {},
   "source": [
    "#### Another example recursion function\n",
    "\n",
    "```\n",
    "void func(int n)\n",
    "{\n",
    "    if(n>0)\n",
    "    {\n",
    "        1 func(n-1);\n",
    "        2 printf(\"%d\", n);\n",
    "    }\n",
    "}\n",
    "\n",
    "void main()\n",
    "{\n",
    "    int x=5;\n",
    "    func(x);\n",
    "}\n",
    "```\n",
    "### python for this c code"
   ]
  },
  {
   "cell_type": "code",
   "execution_count": 4,
   "metadata": {},
   "outputs": [
    {
     "name": "stdout",
     "output_type": "stream",
     "text": [
      "1\n",
      "2\n",
      "3\n"
     ]
    }
   ],
   "source": [
    "def func(n):\n",
    "    if n>0:\n",
    "        func(n-1)\n",
    "        print(n)\n",
    "\n",
    "func(3)"
   ]
  },
  {
   "cell_type": "markdown",
   "metadata": {},
   "source": [
    "### Breaking the recursion into two phase\n",
    "#### 1 Ascending\n",
    "#### 2 Descending\n",
    "\n",
    "\n",
    "```\n",
    "void func(int n)\n",
    "{\n",
    "    if(n > 0)\n",
    "    {\n",
    "         1 code ; //Ascending phase execute when function called \n",
    "         2 func(n-1);\n",
    "         3 code ; //Descending phase execute when function returned \n",
    "    }\n",
    "}\n",
    "\n",
    "void main()\n",
    "{\n",
    "    int x=5;\n",
    "    func(x);\n",
    "}\n",
    "```"
   ]
  },
  {
   "cell_type": "markdown",
   "metadata": {},
   "source": [
    "## Space consumed by the recursion\n",
    "## n + 1\n",
    "## O(n)"
   ]
  },
  {
   "cell_type": "markdown",
   "metadata": {},
   "source": [
    "# Time complexity of recursion \n",
    "## n+1\n",
    "## O(n) \n",
    "#### order of n"
   ]
  },
  {
   "cell_type": "code",
   "execution_count": null,
   "metadata": {},
   "outputs": [],
   "source": []
  }
 ],
 "metadata": {
  "kernelspec": {
   "display_name": "Python 3",
   "language": "python",
   "name": "python3"
  },
  "language_info": {
   "codemirror_mode": {
    "name": "ipython",
    "version": 3
   },
   "file_extension": ".py",
   "mimetype": "text/x-python",
   "name": "python",
   "nbconvert_exporter": "python",
   "pygments_lexer": "ipython3",
   "version": "3.8.5"
  }
 },
 "nbformat": 4,
 "nbformat_minor": 4
}
